{
 "cells": [
  {
   "cell_type": "markdown",
   "id": "79daffba",
   "metadata": {},
   "source": [
    "# Estudio de la función de onda radial para el átomo de hidrógeno"
   ]
  },
  {
   "cell_type": "code",
   "execution_count": 1,
   "id": "64fd3e59",
   "metadata": {},
   "outputs": [],
   "source": [
    "import numpy as np\n",
    "import pandas as pd\n",
    "import sympy as sp\n",
    "from sympy import assoc_laguerre, diff\n",
    "from sympy.abc import x, n\n",
    "from sympy.functions import exp\n",
    "from sympy import *\n",
    "r, C = symbols('r C')\n",
    "a = sp.Symbol(\"a\", positive=True)\n",
    "init_printing(use_unicode=True)"
   ]
  },
  {
   "cell_type": "markdown",
   "id": "07b4ef59",
   "metadata": {},
   "source": [
    "### Solución de la parte radial de la función de onda sin normalizar:"
   ]
  },
  {
   "cell_type": "markdown",
   "id": "b9070096",
   "metadata": {},
   "source": [
    "$$R_{nl}\\left(r\\right) = R_{n-l-1}^{2l+1}\\left(r\\right) = \\left(\\dfrac{2r}{na_{0}}\\right)^lL_{n-l-1}^{2l+1}\\left(\\dfrac{2r}{na_{0}}\\right)e^\\dfrac{-r}{na_{0}} $$\n",
    "\n",
    "* $n: Número\\ cuántico\\ principal$\n",
    "* $l: Número\\ cuántico\\ momento\\ angular\\ orbital$\n",
    "* $a_{0}: Radio\\ de\\ Bohr$\n",
    "* $L_{n-l-1}^{2l+1}: Polinomio\\ generalizado\\ de\\ Laguerre$"
   ]
  },
  {
   "cell_type": "code",
   "execution_count": 2,
   "id": "cbca233b",
   "metadata": {},
   "outputs": [],
   "source": [
    "n=1\n",
    "l=0\n",
    "def R(n,l):\n",
    "    A=((2*r)/(n*a))**l\n",
    "    B=exp((-r)/(n*a))\n",
    "    C=assoc_laguerre(n-l-1, 2*l+1, ((2*r)/(n*a)))\n",
    "    M=A*B*C\n",
    "    return M"
   ]
  },
  {
   "cell_type": "code",
   "execution_count": 3,
   "id": "a55658bd",
   "metadata": {},
   "outputs": [
    {
     "data": {
      "image/png": "[encoded data removed]",
      "text/latex": [
       "$\\displaystyle e^{- \\frac{r}{a}}$"
      ],
      "text/plain": [
       " -r \n",
       " ───\n",
       "  a \n",
       "ℯ   "
      ]
     },
     "execution_count": 3,
     "metadata": {},
     "output_type": "execute_result"
    }
   ],
   "source": [
    "R(n,l)"
   ]
  },
  {
   "cell_type": "markdown",
   "id": "06939111",
   "metadata": {},
   "source": [
    "##### Se procede a normalizar R(n,l)"
   ]
  },
  {
   "cell_type": "code",
   "execution_count": 4,
   "id": "f1e64bd8",
   "metadata": {},
   "outputs": [
    {
     "data": {
      "image/png": "[encoded data removed]",
      "text/latex": [
       "$\\displaystyle \\frac{2 e^{- \\frac{r}{a}}}{a^{\\frac{3}{2}}}$"
      ],
      "text/plain": [
       "   -r \n",
       "   ───\n",
       "    a \n",
       "2⋅ℯ   \n",
       "──────\n",
       "  3/2 \n",
       " a    "
      ]
     },
     "execution_count": 4,
     "metadata": {},
     "output_type": "execute_result"
    }
   ],
   "source": [
    "A=integrate(((R(n,l)*C)**2)*r**2, (r, 0, oo))\n",
    "B=sp.solve(A-1,C)\n",
    "Res=B[1]*R(n,l)\n",
    "Res"
   ]
  },
  {
   "cell_type": "markdown",
   "id": "5f263bc7",
   "metadata": {},
   "source": [
    "##### Graficar la funcion de onda:"
   ]
  },
  {
   "cell_type": "code",
   "execution_count": 5,
   "id": "c4e5d5b4",
   "metadata": {},
   "outputs": [
    {
     "data": {
      "image/png": "[encoded data removed]",
      "text/plain": [
       "<Figure size 432x288 with 1 Axes>"
      ]
     },
     "metadata": {
      "needs_background": "light"
     },
     "output_type": "display_data"
    },
    {
     "data": {
      "text/plain": [
       "<sympy.plotting.plot.Plot at 0x1af4237a0d0>"
      ]
     },
     "execution_count": 5,
     "metadata": {},
     "output_type": "execute_result"
    }
   ],
   "source": [
    "f=Res.subs(a,5.29*10**-11)\n",
    "plot(f,(r,0,25*10**-11)) #Ajustar parámetros manualmente para tener un buen gráfico"
   ]
  },
  {
   "cell_type": "markdown",
   "id": "8c1cecdc",
   "metadata": {},
   "source": [
    "##### Graficar la densidad de probabilidad radial:"
   ]
  },
  {
   "cell_type": "markdown",
   "id": "bca9ecb8",
   "metadata": {},
   "source": [
    "$$ P(r) = r^{2}|R(r)|^{2} $$"
   ]
  },
  {
   "cell_type": "code",
   "execution_count": 6,
   "id": "5df6811e",
   "metadata": {},
   "outputs": [
    {
     "data": {
      "image/png": "[encoded data removed]",
      "text/plain": [
       "<Figure size 432x288 with 1 Axes>"
      ]
     },
     "metadata": {
      "needs_background": "light"
     },
     "output_type": "display_data"
    },
    {
     "data": {
      "text/plain": [
       "<sympy.plotting.plot.Plot at 0x1af4237a310>"
      ]
     },
     "execution_count": 6,
     "metadata": {},
     "output_type": "execute_result"
    }
   ],
   "source": [
    "f=Res.subs(a,5.29*10**-11)\n",
    "plot((f**2)*r**2,(r,0,25*10**-11)) #Ajustar parámetros manualmente para tener un buen gráfico"
   ]
  }
 ],
 "metadata": {
  "kernelspec": {
   "display_name": "Python 3 (ipykernel)",
   "language": "python",
   "name": "python3"
  },
  "language_info": {
   "codemirror_mode": {
    "name": "ipython",
    "version": 3
   },
   "file_extension": ".py",
   "mimetype": "text/x-python",
   "name": "python",
   "nbconvert_exporter": "python",
   "pygments_lexer": "ipython3",
   "version": "3.9.7"
  }
 },
 "nbformat": 4,
 "nbformat_minor": 5
}
